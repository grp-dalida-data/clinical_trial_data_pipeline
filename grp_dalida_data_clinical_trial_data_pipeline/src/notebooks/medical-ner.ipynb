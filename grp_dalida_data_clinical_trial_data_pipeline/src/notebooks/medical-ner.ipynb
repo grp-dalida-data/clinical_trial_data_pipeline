{
 "cells": [
  {
   "cell_type": "code",
   "execution_count": 21,
   "metadata": {},
   "outputs": [
    {
     "name": "stderr",
     "output_type": "stream",
     "text": [
      "Asking to truncate to max_length but no maximum length is provided and the model has no predefined maximum length. Default to no truncation.\n"
     ]
    },
    {
     "name": "stdout",
     "output_type": "stream",
     "text": [
      "[{'entity_group': 'DISEASE_DISORDER', 'score': 0.41900337, 'word': 'DISEASE', 'start': 2, 'end': 9}, {'entity_group': 'DETAILED_DESCRIPTION', 'score': 0.43658236, 'word': 'Histological', 'start': 29, 'end': 42}, {'entity_group': 'DETAILED_DESCRIPTION', 'score': 0.6389923, 'word': 'chronic phase', 'start': 54, 'end': 68}, {'entity_group': 'DISEASE_DISORDER', 'score': 0.7695001, 'word': 'chronic myelogenous leukemia', 'start': 68, 'end': 97}, {'entity_group': 'DISEASE_DISORDER', 'score': 0.592165, 'word': 'CML', 'start': 99, 'end': 102}, {'entity_group': 'SIGN_SYMPTOM', 'score': 0.85616136, 'word': 't(9;22)(q34;q11', 'start': 120, 'end': 136}, {'entity_group': 'DETAILED_DESCRIPTION', 'score': 0.47536024, 'word': ')', 'start': 136, 'end': 137}, {'entity_group': 'LAB_VALUE', 'score': 0.68545294, 'word': 'at least 20 cells examined in', 'start': 142, 'end': 172}, {'entity_group': 'DETAILED_DESCRIPTION', 'score': 0.7111942, 'word': 'metaphase', 'start': 172, 'end': 182}, {'entity_group': 'DIAGNOSTIC_PROCEDURE', 'score': 0.94298875, 'word': 'cytogenetic examination', 'start': 185, 'end': 209}, {'entity_group': 'BIOLOGICAL_STRUCTURE', 'score': 0.8696043, 'word': 'bone marrow', 'start': 216, 'end': 228}, {'entity_group': 'SIGN_SYMPTOM', 'score': 0.90591085, 'word': 'hematologic remission', 'start': 239, 'end': 261}, {'entity_group': 'DETAILED_DESCRIPTION', 'score': 0.28991607, 'word': '2', 'start': 295, 'end': 297}, {'entity_group': 'DIAGNOSTIC_PROCEDURE', 'score': 0.9725713, 'word': 'blood count analyses', 'start': 306, 'end': 327}, {'entity_group': 'DIAGNOSTIC_PROCEDURE', 'score': 0.86530817, 'word': 'WBC', 'start': 359, 'end': 363}, {'entity_group': 'LAB_VALUE', 'score': 0.7435488, 'word': 'no greater than', 'start': 363, 'end': 379}, {'entity_group': 'LAB_VALUE', 'score': 0.9141132, 'word': '10,000/mm\\\\^3', 'start': 379, 'end': 392}, {'entity_group': 'DIAGNOSTIC_PROCEDURE', 'score': 0.9311609, 'word': 'platelet count', 'start': 396, 'end': 411}, {'entity_group': 'LAB_VALUE', 'score': 0.86696345, 'word': 'no greater than 450,000/mm\\\\^3', 'start': 411, 'end': 441}, {'entity_group': 'SIGN_SYMPTOM', 'score': 0.69905925, 'word': 'symptoms of disease', 'start': 476, 'end': 496}, {'entity_group': 'SIGN_SYMPTOM', 'score': 0.95076364, 'word': 'splenomegaly', 'start': 516, 'end': 529}, {'entity_group': 'LAB_VALUE', 'score': 0.8235214, 'word': 'Normal', 'start': 533, 'end': 540}, {'entity_group': 'DIAGNOSTIC_PROCEDURE', 'score': 0.87998486, 'word': 'differential counts', 'start': 540, 'end': 560}, {'entity_group': 'LAB_VALUE', 'score': 0.4163181, 'word': 'absence', 'start': 567, 'end': 575}, {'entity_group': 'SIGN_SYMPTOM', 'score': 0.27196285, 'word': 'blasts', 'start': 578, 'end': 585}, {'entity_group': 'SIGN_SYMPTOM', 'score': 0.37839222, 'word': 'promyelocytes', 'start': 586, 'end': 600}, {'entity_group': 'SIGN_SYMPTOM', 'score': 0.3173621, 'word': 'myelocytes', 'start': 601, 'end': 612}, {'entity_group': 'SIGN_SYMPTOM', 'score': 0.29142722, 'word': 'metamyel', 'start': 617, 'end': 626}, {'entity_group': 'LAB_VALUE', 'score': 0.31483766, 'word': 'ocytes', 'start': 626, 'end': 632}, {'entity_group': 'SIGN_SYMPTOM', 'score': 0.6931157, 'word': 'hematologic remission', 'start': 686, 'end': 708}, {'entity_group': 'SIGN_SYMPTOM', 'score': 0.43540153, 'word': 'cytogenetic', 'start': 760, 'end': 772}, {'entity_group': 'DISEASE_DISORDER', 'score': 0.4241808, 'word': 'disease', 'start': 772, 'end': 780}, {'entity_group': 'DURATION', 'score': 0.57701755, 'word': '12 months', 'start': 788, 'end': 798}, {'entity_group': 'MEDICATION', 'score': 0.8250019, 'word': 'imatinib mesylate', 'start': 807, 'end': 825}, {'entity_group': 'MEDICATION', 'score': 0.74373144, 'word': 'imatinib mesylate', 'start': 899, 'end': 917}, {'entity_group': 'DOSAGE', 'score': 0.7940119, 'word': '400 mg/day', 'start': 940, 'end': 951}, {'entity_group': 'SIGN_SYMPTOM', 'score': 0.71945834, 'word': 'cytogenetic remission', 'start': 969, 'end': 991}, {'entity_group': 'DATE', 'score': 0.4747008, 'word': 'within', 'start': 991, 'end': 998}, {'entity_group': 'DATE', 'score': 0.5622318, 'word': '30 days of', 'start': 998, 'end': 1009}, {'entity_group': 'DATE', 'score': 0.42741838, 'word': 'entry', 'start': 1015, 'end': 1021}, {'entity_group': 'LAB_VALUE', 'score': 0.6614129, 'word': 'Persistent', 'start': 1026, 'end': 1037}, {'entity_group': 'DIAGNOSTIC_PROCEDURE', 'score': 0.7061012, 'word': 'Philadelphia chromosome', 'start': 1037, 'end': 1061}, {'entity_group': 'BIOLOGICAL_STRUCTURE', 'score': 0.46993887, 'word': 'bone', 'start': 1064, 'end': 1069}, {'entity_group': 'DIAGNOSTIC_PROCEDURE', 'score': 0.5244719, 'word': 'marrow exam', 'start': 1069, 'end': 1081}, {'entity_group': 'DIAGNOSTIC_PROCEDURE', 'score': 0.52410823, 'word': 'Performance status', 'start': 1128, 'end': 1147}, {'entity_group': 'DIAGNOSTIC_PROCEDURE', 'score': 0.91484284, 'word': 'ECOG', 'start': 1150, 'end': 1155}, {'entity_group': 'LAB_VALUE', 'score': 0.85609317, 'word': '0-2', 'start': 1155, 'end': 1159}, {'entity_group': 'LAB_VALUE', 'score': 0.5062346, 'word': 'More', 'start': 1179, 'end': 1184}, {'entity_group': 'LAB_VALUE', 'score': 0.32157952, 'word': '6 months', 'start': 1189, 'end': 1198}, {'entity_group': 'DIAGNOSTIC_PROCEDURE', 'score': 0.40002608, 'word': 'He', 'start': 1199, 'end': 1202}, {'entity_group': 'LAB_VALUE', 'score': 0.26046014, 'word': 'poietic', 'start': 1206, 'end': 1213}, {'entity_group': 'BIOLOGICAL_STRUCTURE', 'score': 0.59990126, 'word': 'Hepatic', 'start': 1245, 'end': 1253}, {'entity_group': 'BIOLOGICAL_STRUCTURE', 'score': 0.6255847, 'word': 'Renal', 'start': 1271, 'end': 1277}, {'entity_group': 'DETAILED_DESCRIPTION', 'score': 0.40984422, 'word': 'effective contraception', 'start': 1356, 'end': 1380}, {'entity_group': 'DETAILED_DESCRIPTION', 'score': 0.6742207, 'word': 'active', 'start': 1398, 'end': 1405}, {'entity_group': 'DISEASE_DISORDER', 'score': 0.49479926, 'word': 'infective', 'start': 1405, 'end': 1415}, {'entity_group': 'DISEASE_DISORDER', 'score': 0.30123815, 'word': 'malignancy', 'start': 1553, 'end': 1564}, {'entity_group': 'DETAILED_DESCRIPTION', 'score': 0.7522144, 'word': 'curatively treated', 'start': 1588, 'end': 1607}, {'entity_group': 'DISEASE_DISORDER', 'score': 0.62888825, 'word': 'basal cell skin cancer', 'start': 1607, 'end': 1630}, {'entity_group': 'DISEASE_DISORDER', 'score': 0.8091292, 'word': 'carcinoma in situ', 'start': 1633, 'end': 1651}, {'entity_group': 'DISEASE_DISORDER', 'score': 0.2980648, 'word': 'cervix', 'start': 1658, 'end': 1665}, {'entity_group': 'MEDICATION', 'score': 0.7627533, 'word': 'Biologic therapy', 'start': 1693, 'end': 1710}, {'entity_group': 'MEDICATION', 'score': 0.8785814, 'word': 'sargramostim (GM-CSF', 'start': 1719, 'end': 1740}, {'entity_group': 'MEDICATION', 'score': 0.925107, 'word': 'interferon alfa', 'start': 1757, 'end': 1773}, {'entity_group': 'DISEASE_DISORDER', 'score': 0.32285866, 'word': 'CML', 'start': 1777, 'end': 1781}, {'entity_group': 'THERAPEUTIC_PROCEDURE', 'score': 0.79331774, 'word': 'stem cell transplantation', 'start': 1800, 'end': 1826}, {'entity_group': 'MEDICATION', 'score': 0.912907, 'word': 'interferon alfa', 'start': 1839, 'end': 1855}, {'entity_group': 'DETAILED_DESCRIPTION', 'score': 0.69018567, 'word': '\\\\*', 'start': 1855, 'end': 1857}, {'entity_group': 'DISEASE_DISORDER', 'score': 0.3620516, 'word': 'CML', 'start': 1861, 'end': 1865}, {'entity_group': 'MEDICATION', 'score': 0.35551053, 'word': 'Chemotherapy', 'start': 1926, 'end': 1939}, {'entity_group': 'DATE', 'score': 0.41460764, 'word': '4 weeks', 'start': 1951, 'end': 1959}, {'entity_group': 'MEDICATION', 'score': 0.37429622, 'word': 'Endocrine', 'start': 1985, 'end': 1995}, {'entity_group': 'THERAPEUTIC_PROCEDURE', 'score': 0.50354195, 'word': 'therapy', 'start': 1995, 'end': 2003}, {'entity_group': 'THERAPEUTIC_PROCEDURE', 'score': 0.65945804, 'word': 'Radiotherapy', 'start': 2021, 'end': 2034}, {'entity_group': 'DATE', 'score': 0.5213102, 'word': '4 weeks', 'start': 2046, 'end': 2054}, {'entity_group': 'THERAPEUTIC_PROCEDURE', 'score': 0.38194603, 'word': 'radiotherapy', 'start': 2095, 'end': 2108}, {'entity_group': 'THERAPEUTIC_PROCEDURE', 'score': 0.5081396, 'word': 'Surgery', 'start': 2109, 'end': 2117}, {'entity_group': 'DATE', 'score': 0.53110445, 'word': '4 weeks', 'start': 2129, 'end': 2137}, {'entity_group': 'MEDICATION', 'score': 0.8961419, 'word': 'imatinib mesylate', 'start': 2173, 'end': 2191}, {'entity_group': 'DISEASE_DISORDER', 'score': 0.3315277, 'word': 'CML', 'start': 2195, 'end': 2199}, {'entity_group': 'MEDICATION', 'score': 0.8759867, 'word': 'imatinib mesylate', 'start': 2261, 'end': 2279}, {'entity_group': 'DETAILED_DESCRIPTION', 'score': 0.6167019, 'word': '\\\\* for', 'start': 2279, 'end': 2285}, {'entity_group': 'DISEASE_DISORDER', 'score': 0.29190588, 'word': 'CML', 'start': 2285, 'end': 2289}]\n"
     ]
    }
   ],
   "source": [
    "from transformers import pipeline\n",
    "\n",
    "# Set up the token classification pipeline\n",
    "pipe = pipeline(\"token-classification\", model=\"Clinical-AI-Apollo/Medical-NER\", aggregation_strategy='simple')\n",
    "\n",
    "# Use the pipeline on a sample text\n",
    "text = \"\"\"\n",
    "'DISEASE CHARACTERISTICS:\\n\\n* Histologically confirmed chronic phase chronic myelogenous leukemia (CML)\\n\\n  * Presence of t(9;22)(q34;q11) with at least 20 cells examined in metaphase by cytogenetic examination of the bone marrow\\n* Complete hematologic remission during prior therapy\\\\* as seen on 2 separate blood count analyses, defined by the following:\\n\\n  * WBC no greater than 10,000/mm\\\\^3 AND platelet count no greater than 450,000/mm\\\\^3\\n  * Disappearance of all signs and symptoms of disease, including palpable splenomegaly\\n  * Normal differential counts (i.e., absence of blasts, promyelocytes, myelocytes, and metamyelocytes) NOTE: \\\\*Continuation of therapy that led to complete hematologic remission is required during study participation\\n* Persistent cytogenetic disease despite 12 months of prior imatinib mesylate therapy, which may have included a trial dose-escalation OR intolerant of imatinib mesylate at a dose greater than 400 mg/day\\n* Not in complete cytogenetic remission within 30 days of study entry\\n\\n  * Persistent Philadelphia chromosome by bone marrow exam\\n\\nPATIENT CHARACTERISTICS:\\n\\nAge\\n\\n* 18 and over\\n\\nPerformance status\\n\\n* ECOG 0-2\\n\\nLife expectancy\\n\\n* More than 6 months\\n\\nHematopoietic\\n\\n* See Disease Characteristics\\n\\nHepatic\\n\\n* Not specified\\n\\nRenal\\n\\n* Not specified\\n\\nOther\\n\\n* Not pregnant or nursing\\n* Fertile patients must use effective contraception\\n* No uncontrolled active infective\\n* No serious medical or psychiatric illness that would prevent giving informed consent or limit survival to less than 6 months\\n* No other malignancy not in remission except curatively treated basal cell skin cancer or carcinoma in situ of the cervix\\n\\nPRIOR CONCURRENT THERAPY:\\n\\nBiologic therapy\\n\\n* Prior sargramostim (GM-CSF) allowed\\n* Prior interferon alfa for CML allowed\\n* No prior stem cell transplantation\\n* Concurrent interferon alfa\\\\* for CML allowed NOTE: \\\\*No dose increase during study participation\\n\\nChemotherapy\\n\\n* At least 4 weeks since prior chemotherapy\\n\\nEndocrine therapy\\n\\n* Not specified\\n\\nRadiotherapy\\n\\n* At least 4 weeks since prior radiotherapy\\n* No concurrent radiotherapy\\n\\nSurgery\\n\\n* At least 4 weeks since prior surgery\\n\\nOther\\n\\n* Prior imatinib mesylate for CML allowed\\n* No other concurrent medication for CML\\n* Concurrent imatinib mesylate\\\\* for CML allowed NOTE: \\\\*No dose increase during study participation'\n",
    "\"\"\"\n",
    "result = pipe(text)\n",
    "print(result)"
   ]
  },
  {
   "cell_type": "code",
   "execution_count": 17,
   "metadata": {},
   "outputs": [
    {
     "data": {
      "text/plain": [
       "'48 year-old'"
      ]
     },
     "execution_count": 17,
     "metadata": {},
     "output_type": "execute_result"
    }
   ],
   "source": [
    "result[0].get('word')"
   ]
  },
  {
   "cell_type": "code",
   "execution_count": 18,
   "metadata": {},
   "outputs": [
    {
     "data": {
      "text/plain": [
       "'AGE'"
      ]
     },
     "execution_count": 18,
     "metadata": {},
     "output_type": "execute_result"
    }
   ],
   "source": [
    "result[0].get('entity_group')"
   ]
  },
  {
   "cell_type": "code",
   "execution_count": 19,
   "metadata": {},
   "outputs": [
    {
     "data": {
      "text/plain": [
       "'girl'"
      ]
     },
     "execution_count": 19,
     "metadata": {},
     "output_type": "execute_result"
    }
   ],
   "source": [
    "result[1].get('word')"
   ]
  },
  {
   "cell_type": "code",
   "execution_count": 20,
   "metadata": {},
   "outputs": [
    {
     "data": {
      "text/plain": [
       "'SEX'"
      ]
     },
     "execution_count": 20,
     "metadata": {},
     "output_type": "execute_result"
    }
   ],
   "source": [
    "result[1].get('entity_group')"
   ]
  },
  {
   "cell_type": "code",
   "execution_count": 24,
   "metadata": {},
   "outputs": [
    {
     "name": "stderr",
     "output_type": "stream",
     "text": [
      "Asking to truncate to max_length but no maximum length is provided and the model has no predefined maximum length. Default to no truncation.\n"
     ]
    },
    {
     "name": "stdout",
     "output_type": "stream",
     "text": [
      "[{'entity_group': 'DISEASE_DISORDER', 'score': 0.21398772, 'word': 'CAD', 'start': 32, 'end': 36}, {'entity_group': 'MEDICATION', 'score': 0.5350736, 'word': 'aspirin', 'start': 53, 'end': 61}]\n"
     ]
    }
   ],
   "source": [
    "from transformers import pipeline\n",
    "\n",
    "# Set up the token classification pipeline\n",
    "pipe = pipeline(\"token-classification\", model=\"Clinical-AI-Apollo/Medical-NER\", aggregation_strategy='simple')\n",
    "\n",
    "# Define the function to filter specific entities\n",
    "def extract_specific_entities(text, target_entities=['DISEASE_DISORDER', 'MEDICATION']):\n",
    "    # Get the full list of entities from the pipeline\n",
    "    results = pipe(text)\n",
    "    \n",
    "    # Filter the results to keep only the desired entities\n",
    "    filtered_results = [entity for entity in results if entity['entity_group'] in target_entities]\n",
    "    \n",
    "    return filtered_results\n",
    "\n",
    "# Example patient record\n",
    "patient_record = \"45 year old woman diagnosed with CAD, prescribed with aspirin.\"\n",
    "\n",
    "# Extract specific entities\n",
    "entities = extract_specific_entities(patient_record)\n",
    "print(entities)"
   ]
  },
  {
   "cell_type": "code",
   "execution_count": 1,
   "metadata": {},
   "outputs": [
    {
     "name": "stderr",
     "output_type": "stream",
     "text": [
      "Asking to truncate to max_length but no maximum length is provided and the model has no predefined maximum length. Default to no truncation.\n"
     ]
    },
    {
     "data": {
      "text/plain": [
       "{'diseases': ['CAD', 'hypertension'], 'medications': ['aspirin', 'metformin']}"
      ]
     },
     "execution_count": 1,
     "metadata": {},
     "output_type": "execute_result"
    }
   ],
   "source": [
    "import sys\n",
    "import os\n",
    "\n",
    "# Ensure the 'models' directory is in the Python path\n",
    "sys.path.append(os.path.abspath(os.path.join(os.getcwd(), '..', 'models')))\n",
    "\n",
    "from entity_extractor import EntityExtractor\n",
    "\n",
    "extractor = EntityExtractor()\n",
    "\n",
    "extractor.extract_specific_entities(\"45 year old woman diagnosed with CAD and hypertension, prescribed with aspirin and metformin.\")"
   ]
  },
  {
   "cell_type": "code",
   "execution_count": 4,
   "metadata": {},
   "outputs": [
    {
     "data": {
      "text/plain": [
       "['CAD', 'hypertension']"
      ]
     },
     "execution_count": 4,
     "metadata": {},
     "output_type": "execute_result"
    }
   ],
   "source": [
    "results = extractor.extract_specific_entities(\"45 year old woman diagnosed with CAD and hypertension, prescribed with aspirin and metformin.\")\n",
    "results.get('diseases','Unknown')"
   ]
  },
  {
   "cell_type": "code",
   "execution_count": 5,
   "metadata": {},
   "outputs": [
    {
     "data": {
      "text/plain": [
       "['aspirin', 'metformin']"
      ]
     },
     "execution_count": 5,
     "metadata": {},
     "output_type": "execute_result"
    }
   ],
   "source": [
    "results.get('medications','Unknown')"
   ]
  },
  {
   "cell_type": "code",
   "execution_count": null,
   "metadata": {},
   "outputs": [],
   "source": [
    "def process_patient_records(patient_records):\n",
    "    \"\"\"\n",
    "    Process a list of patient records to extract specific entities.\n",
    "\n",
    "    Args:\n",
    "        patient_records (list): List of patient records (strings).\n",
    "\n",
    "    Returns:\n",
    "        list: List of dictionaries with extracted entities for each patient record.\n",
    "    \"\"\"\n",
    "    extractor = EntityExtractor()\n",
    "    study_data = []\n",
    "    for record in patient_records:\n",
    "        entities = extractor.extract_specific_entities(record)\n",
    "        study_data.append(entities)\n",
    "    return study_data\n",
    "\n",
    "if __name__ == \"__main__\":\n",
    "    # Example list of eligibility criteria (or load your actual data here)\n",
    "    eligibility_criteria = [\n",
    "        \"45 year old woman diagnosed with CAD and hypertension, prescribed with aspirin and metformin.\",\n",
    "        \"50 year old man with diabetes, taking insulin and metformin.\",\n",
    "        # Add more eligibility criteria as needed\n",
    "    ]\n",
    "    \n",
    "    # Process the eligibility criteria\n",
    "    study_data = process_patient_records(eligibility_criteria)\n",
    "    \n",
    "    # Print the results\n",
    "    for data in study_data:\n",
    "        print(data)"
   ]
  }
 ],
 "metadata": {
  "kernelspec": {
   "display_name": "Python (dbt-dlt)",
   "language": "python",
   "name": "dbt_dlt_env"
  },
  "language_info": {
   "codemirror_mode": {
    "name": "ipython",
    "version": 3
   },
   "file_extension": ".py",
   "mimetype": "text/x-python",
   "name": "python",
   "nbconvert_exporter": "python",
   "pygments_lexer": "ipython3",
   "version": "3.10.12"
  }
 },
 "nbformat": 4,
 "nbformat_minor": 2
}
